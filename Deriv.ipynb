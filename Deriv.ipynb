{
  "nbformat": 4,
  "nbformat_minor": 0,
  "metadata": {
    "kernelspec": {
      "display_name": "Python 3",
      "language": "python",
      "name": "python3"
    },
    "language_info": {
      "codemirror_mode": {
        "name": "ipython",
        "version": 3
      },
      "file_extension": ".py",
      "mimetype": "text/x-python",
      "name": "python",
      "nbconvert_exporter": "python",
      "pygments_lexer": "ipython3",
      "version": "3.6.6+"
    },
    "colab": {
      "name": "Deriv.ipynb",
      "provenance": [],
      "include_colab_link": true
    }
  },
  "cells": [
    {
      "cell_type": "markdown",
      "metadata": {
        "id": "view-in-github",
        "colab_type": "text"
      },
      "source": [
        "<a href=\"https://colab.research.google.com/github/m-dabo/derivatives/blob/main/Deriv.ipynb\" target=\"_parent\"><img src=\"https://colab.research.google.com/assets/colab-badge.svg\" alt=\"Open In Colab\"/></a>"
      ]
    },
    {
      "cell_type": "markdown",
      "metadata": {
        "id": "N_WoPzmaYPQ4"
      },
      "source": [
        "# Codebook for open classroom\n",
        "#### based on Derivatives Analytics by Y. H."
      ]
    },
    {
      "cell_type": "markdown",
      "metadata": {
        "id": "Ctl0deUagZcm"
      },
      "source": [
        "# General Requirements"
      ]
    },
    {
      "cell_type": "code",
      "metadata": {
        "id": "o7Rb-BLVgfpy"
      },
      "source": [
        "# Packages\n",
        "import numpy as np\n",
        "import matplotlib as mpl\n",
        "import matplotlib.pyplot as plt\n",
        "\n",
        "# Customization\n",
        "mpl.rcParams['font.family'] = 'serif'"
      ],
      "execution_count": 1,
      "outputs": []
    },
    {
      "cell_type": "markdown",
      "metadata": {
        "id": "o5QEVyDlgAAU"
      },
      "source": [
        "# Part I : The Market"
      ]
    },
    {
      "cell_type": "markdown",
      "metadata": {
        "id": "Ucc9kKTlgIEK"
      },
      "source": [
        "## Ch. 2 : Market based valuation"
      ]
    },
    {
      "cell_type": "code",
      "metadata": {
        "id": "TvXpQuY1YPQ5",
        "outputId": "0f5e530a-4e19-4fff-850e-ca84e879c9d4",
        "colab": {
          "base_uri": "https://localhost:8080/",
          "height": 567
        }
      },
      "source": [
        "# Defining prices\n",
        "K = 2100 # strike price\n",
        "S = np.linspace(1500, 2500, 100) # underlying price vector\n",
        "h = np.maximum(S - K, 0) # call option inner values\n",
        "\n",
        "# Visualization\n",
        "plt.figure(figsize = (7, 9))\n",
        "plt.plot(S, h, lw = 2.5) # plot inner values at maturity\n",
        "plt.xlabel('Underlying price at maturity')\n",
        "plt.ylabel('Option value')"
      ],
      "execution_count": 2,
      "outputs": [
        {
          "output_type": "execute_result",
          "data": {
            "text/plain": [
              "Text(0, 0.5, 'Option value')"
            ]
          },
          "metadata": {
            "tags": []
          },
          "execution_count": 2
        },
        {
          "output_type": "display_data",
          "data": {
            "image/png": "[encoded data removed]",
            "text/plain": [
              "<Figure size 504x648 with 1 Axes>"
            ]
          },
          "metadata": {
            "tags": [],
            "needs_background": "light"
          }
        }
      ]
    }
  ]
}